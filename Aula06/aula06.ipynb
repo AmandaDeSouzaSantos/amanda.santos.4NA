{
 "cells": [
  {
   "cell_type": "code",
   "execution_count": null,
   "metadata": {},
   "outputs": [],
   "source": [
    "!pip install gensim matplotlib scikit-learn pandas numpy spacy plotly"
   ]
  },
  {
   "cell_type": "code",
   "execution_count": 7,
   "metadata": {},
   "outputs": [
    {
     "ename": "AttributeError",
     "evalue": "module 'numpy' has no attribute 'ndarray'",
     "output_type": "error",
     "traceback": [
      "\u001b[31m---------------------------------------------------------------------------\u001b[39m",
      "\u001b[31mAttributeError\u001b[39m                            Traceback (most recent call last)",
      "\u001b[36mCell\u001b[39m\u001b[36m \u001b[39m\u001b[32mIn[7]\u001b[39m\u001b[32m, line 5\u001b[39m\n\u001b[32m      1\u001b[39m \u001b[38;5;66;03m# Instalação das bibliotecas (execute apenas se não estiverem instaladas)\u001b[39;00m\n\u001b[32m      2\u001b[39m \u001b[38;5;66;03m# !pip install gensim matplotlib scikit-learn pandas numpy spacy plotly\u001b[39;00m\n\u001b[32m      3\u001b[39m \n\u001b[32m      4\u001b[39m \u001b[38;5;66;03m# Importações básicas\u001b[39;00m\n\u001b[32m----> \u001b[39m\u001b[32m5\u001b[39m \u001b[38;5;28;01mimport\u001b[39;00m\u001b[38;5;250m \u001b[39m\u001b[34;01mnumpy\u001b[39;00m\u001b[38;5;250m \u001b[39m\u001b[38;5;28;01mas\u001b[39;00m\u001b[38;5;250m \u001b[39m\u001b[34;01mnp\u001b[39;00m\n\u001b[32m      6\u001b[39m \u001b[38;5;28;01mimport\u001b[39;00m\u001b[38;5;250m \u001b[39m\u001b[34;01mpandas\u001b[39;00m\u001b[38;5;250m \u001b[39m\u001b[38;5;28;01mas\u001b[39;00m\u001b[38;5;250m \u001b[39m\u001b[34;01mpd\u001b[39;00m\n\u001b[32m      7\u001b[39m \u001b[38;5;28;01mimport\u001b[39;00m\u001b[38;5;250m \u001b[39m\u001b[34;01mmatplotlib\u001b[39;00m\u001b[34;01m.\u001b[39;00m\u001b[34;01mpyplot\u001b[39;00m\u001b[38;5;250m \u001b[39m\u001b[38;5;28;01mas\u001b[39;00m\u001b[38;5;250m \u001b[39m\u001b[34;01mplt\u001b[39;00m\n",
      "\u001b[36mFile \u001b[39m\u001b[32m/usr/local/python/3.12.1/lib/python3.12/site-packages/numpy/__init__.py:235\u001b[39m\n\u001b[32m    233\u001b[39m \u001b[38;5;28;01mfrom\u001b[39;00m\u001b[38;5;250m \u001b[39m\u001b[34;01m.\u001b[39;00m\u001b[34;01mcore\u001b[39;00m\u001b[38;5;250m \u001b[39m\u001b[38;5;28;01mimport\u001b[39;00m \u001b[38;5;28mabs\u001b[39m\n\u001b[32m    234\u001b[39m \u001b[38;5;66;03m# now that numpy modules are imported, can initialize limits\u001b[39;00m\n\u001b[32m--> \u001b[39m\u001b[32m235\u001b[39m \u001b[43mcore\u001b[49m\u001b[43m.\u001b[49m\u001b[43mgetlimits\u001b[49m\u001b[43m.\u001b[49m\u001b[43m_register_known_types\u001b[49m\u001b[43m(\u001b[49m\u001b[43m)\u001b[49m\n\u001b[32m    237\u001b[39m __all__.extend([\u001b[33m'\u001b[39m\u001b[33m__version__\u001b[39m\u001b[33m'\u001b[39m, \u001b[33m'\u001b[39m\u001b[33mshow_config\u001b[39m\u001b[33m'\u001b[39m])\n\u001b[32m    238\u001b[39m __all__.extend(core.__all__)\n",
      "\u001b[36mFile \u001b[39m\u001b[32m/usr/local/python/3.12.1/lib/python3.12/site-packages/numpy/core/getlimits.py:230\u001b[39m, in \u001b[36m_register_known_types\u001b[39m\u001b[34m()\u001b[39m\n\u001b[32m    228\u001b[39m \u001b[38;5;28;01mwith\u001b[39;00m numeric.errstate(\u001b[38;5;28mall\u001b[39m=\u001b[33m'\u001b[39m\u001b[33mignore\u001b[39m\u001b[33m'\u001b[39m):\n\u001b[32m    229\u001b[39m     huge_f128 = (ld(\u001b[32m1\u001b[39m) - epsneg_f128) / tiny_f128 * ld(\u001b[32m4\u001b[39m)\n\u001b[32m--> \u001b[39m\u001b[32m230\u001b[39m float128_ma = \u001b[43mMachArLike\u001b[49m\u001b[43m(\u001b[49m\u001b[43mld\u001b[49m\u001b[43m,\u001b[49m\n\u001b[32m    231\u001b[39m \u001b[43m                         \u001b[49m\u001b[43mmachep\u001b[49m\u001b[43m=\u001b[49m\u001b[43m-\u001b[49m\u001b[32;43m112\u001b[39;49m\u001b[43m,\u001b[49m\n\u001b[32m    232\u001b[39m \u001b[43m                         \u001b[49m\u001b[43mnegep\u001b[49m\u001b[43m=\u001b[49m\u001b[43m-\u001b[49m\u001b[32;43m113\u001b[39;49m\u001b[43m,\u001b[49m\n\u001b[32m    233\u001b[39m \u001b[43m                         \u001b[49m\u001b[43mminexp\u001b[49m\u001b[43m=\u001b[49m\u001b[43m-\u001b[49m\u001b[32;43m16382\u001b[39;49m\u001b[43m,\u001b[49m\n\u001b[32m    234\u001b[39m \u001b[43m                         \u001b[49m\u001b[43mmaxexp\u001b[49m\u001b[43m=\u001b[49m\u001b[32;43m16384\u001b[39;49m\u001b[43m,\u001b[49m\n\u001b[32m    235\u001b[39m \u001b[43m                         \u001b[49m\u001b[43mit\u001b[49m\u001b[43m=\u001b[49m\u001b[32;43m112\u001b[39;49m\u001b[43m,\u001b[49m\n\u001b[32m    236\u001b[39m \u001b[43m                         \u001b[49m\u001b[43miexp\u001b[49m\u001b[43m=\u001b[49m\u001b[32;43m15\u001b[39;49m\u001b[43m,\u001b[49m\n\u001b[32m    237\u001b[39m \u001b[43m                         \u001b[49m\u001b[43mibeta\u001b[49m\u001b[43m=\u001b[49m\u001b[32;43m2\u001b[39;49m\u001b[43m,\u001b[49m\n\u001b[32m    238\u001b[39m \u001b[43m                         \u001b[49m\u001b[43mirnd\u001b[49m\u001b[43m=\u001b[49m\u001b[32;43m5\u001b[39;49m\u001b[43m,\u001b[49m\n\u001b[32m    239\u001b[39m \u001b[43m                         \u001b[49m\u001b[43mngrd\u001b[49m\u001b[43m=\u001b[49m\u001b[32;43m0\u001b[39;49m\u001b[43m,\u001b[49m\n\u001b[32m    240\u001b[39m \u001b[43m                         \u001b[49m\u001b[43meps\u001b[49m\u001b[43m=\u001b[49m\u001b[43mexp2\u001b[49m\u001b[43m(\u001b[49m\u001b[43mld\u001b[49m\u001b[43m(\u001b[49m\u001b[43m-\u001b[49m\u001b[32;43m112\u001b[39;49m\u001b[43m)\u001b[49m\u001b[43m)\u001b[49m\u001b[43m,\u001b[49m\n\u001b[32m    241\u001b[39m \u001b[43m                         \u001b[49m\u001b[43mepsneg\u001b[49m\u001b[43m=\u001b[49m\u001b[43mepsneg_f128\u001b[49m\u001b[43m,\u001b[49m\n\u001b[32m    242\u001b[39m \u001b[43m                         \u001b[49m\u001b[43mhuge\u001b[49m\u001b[43m=\u001b[49m\u001b[43mhuge_f128\u001b[49m\u001b[43m,\u001b[49m\n\u001b[32m    243\u001b[39m \u001b[43m                         \u001b[49m\u001b[43mtiny\u001b[49m\u001b[43m=\u001b[49m\u001b[43mtiny_f128\u001b[49m\u001b[43m)\u001b[49m\n\u001b[32m    244\u001b[39m \u001b[38;5;66;03m# IEEE 754 128-bit binary float\u001b[39;00m\n\u001b[32m    245\u001b[39m _register_type(float128_ma,\n\u001b[32m    246\u001b[39m     \u001b[33mb\u001b[39m\u001b[33m'\u001b[39m\u001b[38;5;130;01m\\x9a\u001b[39;00m\u001b[38;5;130;01m\\x99\u001b[39;00m\u001b[38;5;130;01m\\x99\u001b[39;00m\u001b[38;5;130;01m\\x99\u001b[39;00m\u001b[38;5;130;01m\\x99\u001b[39;00m\u001b[38;5;130;01m\\x99\u001b[39;00m\u001b[38;5;130;01m\\x99\u001b[39;00m\u001b[38;5;130;01m\\x99\u001b[39;00m\u001b[38;5;130;01m\\x99\u001b[39;00m\u001b[38;5;130;01m\\x99\u001b[39;00m\u001b[38;5;130;01m\\x99\u001b[39;00m\u001b[38;5;130;01m\\x99\u001b[39;00m\u001b[38;5;130;01m\\x99\u001b[39;00m\u001b[38;5;130;01m\\x99\u001b[39;00m\u001b[38;5;130;01m\\xfb\u001b[39;00m\u001b[38;5;130;01m\\xbf\u001b[39;00m\u001b[33m'\u001b[39m)\n",
      "\u001b[36mFile \u001b[39m\u001b[32m/usr/local/python/3.12.1/lib/python3.12/site-packages/numpy/core/getlimits.py:55\u001b[39m, in \u001b[36mMachArLike.__init__\u001b[39m\u001b[34m(self, ftype, eps, epsneg, huge, tiny, ibeta, smallest_subnormal, **kwargs)\u001b[39m\n\u001b[32m     52\u001b[39m \u001b[38;5;28mself\u001b[39m.precision = \u001b[38;5;28mint\u001b[39m(-log10(\u001b[38;5;28mself\u001b[39m.eps))\n\u001b[32m     53\u001b[39m \u001b[38;5;28mself\u001b[39m.resolution = \u001b[38;5;28mself\u001b[39m._float_to_float(\n\u001b[32m     54\u001b[39m     \u001b[38;5;28mself\u001b[39m._float_conv(\u001b[32m10\u001b[39m) ** (-\u001b[38;5;28mself\u001b[39m.precision))\n\u001b[32m---> \u001b[39m\u001b[32m55\u001b[39m \u001b[38;5;28mself\u001b[39m._str_eps = \u001b[38;5;28;43mself\u001b[39;49m\u001b[43m.\u001b[49m\u001b[43m_float_to_str\u001b[49m\u001b[43m(\u001b[49m\u001b[38;5;28;43mself\u001b[39;49m\u001b[43m.\u001b[49m\u001b[43meps\u001b[49m\u001b[43m)\u001b[49m\n\u001b[32m     56\u001b[39m \u001b[38;5;28mself\u001b[39m._str_epsneg = \u001b[38;5;28mself\u001b[39m._float_to_str(\u001b[38;5;28mself\u001b[39m.epsneg)\n\u001b[32m     57\u001b[39m \u001b[38;5;28mself\u001b[39m._str_xmin = \u001b[38;5;28mself\u001b[39m._float_to_str(\u001b[38;5;28mself\u001b[39m.xmin)\n",
      "\u001b[36mFile \u001b[39m\u001b[32m/usr/local/python/3.12.1/lib/python3.12/site-packages/numpy/core/getlimits.py:119\u001b[39m, in \u001b[36mMachArLike._float_to_str\u001b[39m\u001b[34m(self, value)\u001b[39m\n\u001b[32m    111\u001b[39m \u001b[38;5;28;01mdef\u001b[39;00m\u001b[38;5;250m \u001b[39m\u001b[34m_float_to_str\u001b[39m(\u001b[38;5;28mself\u001b[39m, value):\n\u001b[32m    112\u001b[39m \u001b[38;5;250m    \u001b[39m\u001b[33;03m\"\"\"Converts float to str.\u001b[39;00m\n\u001b[32m    113\u001b[39m \n\u001b[32m    114\u001b[39m \u001b[33;03m    Parameters\u001b[39;00m\n\u001b[32m   (...)\u001b[39m\u001b[32m    117\u001b[39m \u001b[33;03m        value to be converted.\u001b[39;00m\n\u001b[32m    118\u001b[39m \u001b[33;03m    \"\"\"\u001b[39;00m\n\u001b[32m--> \u001b[39m\u001b[32m119\u001b[39m     \u001b[38;5;28;01mreturn\u001b[39;00m \u001b[38;5;28;43mself\u001b[39;49m\u001b[43m.\u001b[49m\u001b[43mparams\u001b[49m\u001b[43m[\u001b[49m\u001b[33;43m'\u001b[39;49m\u001b[33;43mfmt\u001b[39;49m\u001b[33;43m'\u001b[39;49m\u001b[43m]\u001b[49m\u001b[43m \u001b[49m\u001b[43m%\u001b[49m\u001b[43m \u001b[49m\u001b[43marray\u001b[49m\u001b[43m(\u001b[49m\u001b[43m_fr0\u001b[49m\u001b[43m(\u001b[49m\u001b[43mvalue\u001b[49m\u001b[43m)\u001b[49m\u001b[43m[\u001b[49m\u001b[32;43m0\u001b[39;49m\u001b[43m]\u001b[49m\u001b[43m,\u001b[49m\u001b[43m \u001b[49m\u001b[38;5;28;43mself\u001b[39;49m\u001b[43m.\u001b[49m\u001b[43mftype\u001b[49m\u001b[43m)\u001b[49m\n",
      "\u001b[36mFile \u001b[39m\u001b[32m/usr/local/python/3.12.1/lib/python3.12/site-packages/numpy/core/arrayprint.py:1610\u001b[39m, in \u001b[36m_array_str_implementation\u001b[39m\u001b[34m(a, max_line_width, precision, suppress_small, array2string)\u001b[39m\n\u001b[32m   1603\u001b[39m \u001b[38;5;66;03m# the str of 0d arrays is a special case: It should appear like a scalar,\u001b[39;00m\n\u001b[32m   1604\u001b[39m \u001b[38;5;66;03m# so floats are not truncated by `precision`, and strings are not wrapped\u001b[39;00m\n\u001b[32m   1605\u001b[39m \u001b[38;5;66;03m# in quotes. So we return the str of the scalar value.\u001b[39;00m\n\u001b[32m   1606\u001b[39m \u001b[38;5;28;01mif\u001b[39;00m a.shape == ():\n\u001b[32m   1607\u001b[39m     \u001b[38;5;66;03m# obtain a scalar and call str on it, avoiding problems for subclasses\u001b[39;00m\n\u001b[32m   1608\u001b[39m     \u001b[38;5;66;03m# for which indexing with () returns a 0d instead of a scalar by using\u001b[39;00m\n\u001b[32m   1609\u001b[39m     \u001b[38;5;66;03m# ndarray's getindex. Also guard against recursive 0d object arrays.\u001b[39;00m\n\u001b[32m-> \u001b[39m\u001b[32m1610\u001b[39m     \u001b[38;5;28;01mreturn\u001b[39;00m _guarded_repr_or_str(\u001b[43mnp\u001b[49m\u001b[43m.\u001b[49m\u001b[43mndarray\u001b[49m.\u001b[34m__getitem__\u001b[39m(a, ()))\n\u001b[32m   1612\u001b[39m \u001b[38;5;28;01mreturn\u001b[39;00m array2string(a, max_line_width, precision, suppress_small, \u001b[33m'\u001b[39m\u001b[33m \u001b[39m\u001b[33m'\u001b[39m, \u001b[33m\"\u001b[39m\u001b[33m\"\u001b[39m)\n",
      "\u001b[31mAttributeError\u001b[39m: module 'numpy' has no attribute 'ndarray'"
     ]
    }
   ],
   "source": [
    "# Instalação das bibliotecas (execute apenas se não estiverem instaladas)\n",
    "# !pip install gensim matplotlib scikit-learn pandas numpy spacy plotly\n",
    "\n",
    "# Importações básicas\n",
    "import numpy as np\n",
    "import pandas as pd\n",
    "import matplotlib.pyplot as plt\n",
    "from gensim.models import Word2Vec\n",
    "import gensim.downloader as api\n",
    "from sklearn.manifold import TSNE\n",
    "import re\n",
    "import nltk\n",
    "from nltk.tokenize import word_tokenize\n",
    "import warnings\n",
    "warnings.filterwarnings('ignore')\n",
    "\n",
    "# Download de recursos NLTK (se necessário)\n",
    "nltk.download('punkt')\n",
    "nltk.download('stopwords')\n",
    "nltk.download('punkt_tab')"
   ]
  }
 ],
 "metadata": {
  "kernelspec": {
   "display_name": "Python 3",
   "language": "python",
   "name": "python3"
  },
  "language_info": {
   "codemirror_mode": {
    "name": "ipython",
    "version": 3
   },
   "file_extension": ".py",
   "mimetype": "text/x-python",
   "name": "python",
   "nbconvert_exporter": "python",
   "pygments_lexer": "ipython3",
   "version": "3.12.1"
  }
 },
 "nbformat": 4,
 "nbformat_minor": 2
}
